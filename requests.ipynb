{
 "cells": [
  {
   "cell_type": "markdown",
   "metadata": {},
   "source": [
    "Downloading data and putting it into a file with Python is pretty easy!\n",
    "\n",
    "We can split the task up into three parts:\n",
    "\n",
    "* Fetching the data\n",
    "\n",
    "* Manipulating it into the format we need\n",
    "\n",
    "* Importing the data into a CSV file"
   ]
  },
  {
   "cell_type": "markdown",
   "metadata": {
    "slideshow": {
     "slide_type": "-"
    }
   },
   "source": [
    "We need the requests module (to fetch the data), the csv module (to add it to a file) and the datetime module (to parse the data's dates). In Python, we use an import statement to get modules, like this:"
   ]
  },
  {
   "cell_type": "code",
   "execution_count": 1,
   "metadata": {
    "collapsed": true
   },
   "outputs": [],
   "source": [
    "import requests # import request module\n",
    "import csv # import csv module\n",
    "import datetime # import datetime module"
   ]
  },
  {
   "cell_type": "markdown",
   "metadata": {},
   "source": [
    "Then, we get the data we need. In Python, we don't need to use a callback – just send off the request!"
   ]
  },
  {
   "cell_type": "code",
   "execution_count": 2,
   "metadata": {
    "collapsed": false,
    "scrolled": false
   },
   "outputs": [],
   "source": [
    "r = requests.get(\"http://projects.wsj.com/CENTRALAPI/getData.php\") # get the data!\n",
    "\n",
    "json = r.json()"
   ]
  },
  {
   "cell_type": "markdown",
   "metadata": {},
   "source": [
    "The next step is to parse the data. Because we get the json back in a object of objects, this could get a little confusing – but Python's syntax makes parsing a complex lot of data quite easy and succinct."
   ]
  },
  {
   "cell_type": "code",
   "execution_count": 3,
   "metadata": {
    "collapsed": false
   },
   "outputs": [],
   "source": [
    "def parseDate(timestamp): # a method to parse timestamps to neat dates\n",
    "    return datetime.datetime.fromtimestamp(\n",
    "        int(timestamp / 1000)\n",
    "    ).strftime('%Y-%m-%d')\n",
    "\n",
    "data = [\n",
    "    [parseDate(point[0]), point[1], country['name']] # get data point[0] and point[1] and the country name...\n",
    "    for country in json['dataBox2']['countryData'] # ... for every country in the results...\n",
    "    for point in country['data'] # ... and for every point in the country data.\n",
    "]"
   ]
  },
  {
   "cell_type": "markdown",
   "metadata": {},
   "source": [
    "Finally, we add the data to the csv file. We make a list of headers to sit at the top of the file, then hand the data to csv.writer to add it in."
   ]
  },
  {
   "cell_type": "code",
   "execution_count": 4,
   "metadata": {
    "collapsed": false
   },
   "outputs": [],
   "source": [
    "header = ['date', 'values', 'country']\n",
    "\n",
    "with open(\"data.csv\", \"w\") as f: # open up data.csv for writing\n",
    "    writer = csv.writer(f)               \n",
    "    writer.writerows(header) # write the header row\n",
    "    writer.writerows(data) # write everything else"
   ]
  },
  {
   "cell_type": "markdown",
   "metadata": {},
   "source": [
    "Et voila! A neat csv file from a messy load of json!"
   ]
  }
 ],
 "metadata": {
  "celltoolbar": "Slideshow",
  "kernelspec": {
   "display_name": "Python 3",
   "language": "python",
   "name": "python3"
  },
  "language_info": {
   "codemirror_mode": {
    "name": "ipython",
    "version": 3
   },
   "file_extension": ".py",
   "mimetype": "text/x-python",
   "name": "python",
   "nbconvert_exporter": "python",
   "pygments_lexer": "ipython3",
   "version": "3.5.1"
  }
 },
 "nbformat": 4,
 "nbformat_minor": 0
}
